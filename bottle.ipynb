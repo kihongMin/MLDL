{
  "nbformat": 4,
  "nbformat_minor": 0,
  "metadata": {
    "colab": {
      "name": "bottle.ipynb",
      "provenance": [],
      "collapsed_sections": [],
      "include_colab_link": true
    },
    "kernelspec": {
      "name": "python3",
      "display_name": "Python 3"
    },
    "accelerator": "GPU"
  },
  "cells": [
    {
      "cell_type": "markdown",
      "metadata": {
        "id": "view-in-github",
        "colab_type": "text"
      },
      "source": [
        "<a href=\"https://colab.research.google.com/github/kihongMin/MLDL/blob/master/bottle.ipynb\" target=\"_parent\"><img src=\"https://colab.research.google.com/assets/colab-badge.svg\" alt=\"Open In Colab\"/></a>"
      ]
    },
    {
      "cell_type": "code",
      "metadata": {
        "id": "2pKRbJlFROk-",
        "colab_type": "code",
        "colab": {}
      },
      "source": [
        "import numpy as np\n",
        "import pandas as pd\n",
        "import matplotlib.pyplot as plt\n",
        "import os\n",
        "import cv2\n"
      ],
      "execution_count": 0,
      "outputs": []
    },
    {
      "cell_type": "code",
      "metadata": {
        "id": "qLVlQ7uBRZti",
        "colab_type": "code",
        "outputId": "9f313ce7-0a73-4c22-f559-4bf90402610f",
        "colab": {
          "base_uri": "https://localhost:8080/",
          "height": 153
        }
      },
      "source": [
        "!git clone \"https://github.com/parrotProj/proj1.git\""
      ],
      "execution_count": 26,
      "outputs": [
        {
          "output_type": "stream",
          "text": [
            "Cloning into 'proj1'...\n",
            "remote: Enumerating objects: 110, done.\u001b[K\n",
            "remote: Counting objects:   0% (1/110)\u001b[K\rremote: Counting objects:   1% (2/110)\u001b[K\rremote: Counting objects:   2% (3/110)\u001b[K\rremote: Counting objects:   3% (4/110)\u001b[K\rremote: Counting objects:   4% (5/110)\u001b[K\rremote: Counting objects:   5% (6/110)\u001b[K\rremote: Counting objects:   6% (7/110)\u001b[K\rremote: Counting objects:   7% (8/110)\u001b[K\rremote: Counting objects:   8% (9/110)\u001b[K\rremote: Counting objects:   9% (10/110)\u001b[K\rremote: Counting objects:  10% (11/110)\u001b[K\rremote: Counting objects:  11% (13/110)\u001b[K\rremote: Counting objects:  12% (14/110)\u001b[K\rremote: Counting objects:  13% (15/110)\u001b[K\rremote: Counting objects:  14% (16/110)\u001b[K\rremote: Counting objects:  15% (17/110)\u001b[K\rremote: Counting objects:  16% (18/110)\u001b[K\rremote: Counting objects:  17% (19/110)\u001b[K\rremote: Counting objects:  18% (20/110)\u001b[K\rremote: Counting objects:  19% (21/110)\u001b[K\rremote: Counting objects:  20% (22/110)\u001b[K\rremote: Counting objects:  21% (24/110)\u001b[K\rremote: Counting objects:  22% (25/110)\u001b[K\rremote: Counting objects:  23% (26/110)\u001b[K\rremote: Counting objects:  24% (27/110)\u001b[K\rremote: Counting objects:  25% (28/110)\u001b[K\rremote: Counting objects:  26% (29/110)\u001b[K\rremote: Counting objects:  27% (30/110)\u001b[K\rremote: Counting objects:  28% (31/110)\u001b[K\rremote: Counting objects:  29% (32/110)\u001b[K\rremote: Counting objects:  30% (33/110)\u001b[K\rremote: Counting objects:  31% (35/110)\u001b[K\rremote: Counting objects:  32% (36/110)\u001b[K\rremote: Counting objects:  33% (37/110)\u001b[K\rremote: Counting objects:  34% (38/110)\u001b[K\rremote: Counting objects:  35% (39/110)\u001b[K\rremote: Counting objects:  36% (40/110)\u001b[K\rremote: Counting objects:  37% (41/110)\u001b[K\rremote: Counting objects:  38% (42/110)\u001b[K\rremote: Counting objects:  39% (43/110)\u001b[K\rremote: Counting objects:  40% (44/110)\u001b[K\rremote: Counting objects:  41% (46/110)\u001b[K\rremote: Counting objects:  42% (47/110)\u001b[K\rremote: Counting objects:  43% (48/110)\u001b[K\rremote: Counting objects:  44% (49/110)\u001b[K\rremote: Counting objects:  45% (50/110)\u001b[K\rremote: Counting objects:  46% (51/110)\u001b[K\rremote: Counting objects:  47% (52/110)\u001b[K\rremote: Counting objects:  48% (53/110)\u001b[K\rremote: Counting objects:  49% (54/110)\u001b[K\rremote: Counting objects:  50% (55/110)\u001b[K\rremote: Counting objects:  51% (57/110)\u001b[K\rremote: Counting objects:  52% (58/110)\u001b[K\rremote: Counting objects:  53% (59/110)\u001b[K\rremote: Counting objects:  54% (60/110)\u001b[K\rremote: Counting objects:  55% (61/110)\u001b[K\rremote: Counting objects:  56% (62/110)\u001b[K\rremote: Counting objects:  57% (63/110)\u001b[K\rremote: Counting objects:  58% (64/110)\u001b[K\rremote: Counting objects:  59% (65/110)\u001b[K\rremote: Counting objects:  60% (66/110)\u001b[K\rremote: Counting objects:  61% (68/110)\u001b[K\rremote: Counting objects:  62% (69/110)\u001b[K\rremote: Counting objects:  63% (70/110)\u001b[K\rremote: Counting objects:  64% (71/110)\u001b[K\rremote: Counting objects:  65% (72/110)\u001b[K\rremote: Counting objects:  66% (73/110)\u001b[K\rremote: Counting objects:  67% (74/110)\u001b[K\rremote: Counting objects:  68% (75/110)\u001b[K\rremote: Counting objects:  69% (76/110)\u001b[K\rremote: Counting objects:  70% (77/110)\u001b[K\rremote: Counting objects:  71% (79/110)\u001b[K\rremote: Counting objects:  72% (80/110)\u001b[K\rremote: Counting objects:  73% (81/110)\u001b[K\rremote: Counting objects:  74% (82/110)\u001b[K\rremote: Counting objects:  75% (83/110)\u001b[K\rremote: Counting objects:  76% (84/110)\u001b[K\rremote: Counting objects:  77% (85/110)\u001b[K\rremote: Counting objects:  78% (86/110)\u001b[K\rremote: Counting objects:  79% (87/110)\u001b[K\rremote: Counting objects:  80% (88/110)\u001b[K\rremote: Counting objects:  81% (90/110)\u001b[K\rremote: Counting objects:  82% (91/110)\u001b[K\rremote: Counting objects:  83% (92/110)\u001b[K\rremote: Counting objects:  84% (93/110)\u001b[K\rremote: Counting objects:  85% (94/110)\u001b[K\rremote: Counting objects:  86% (95/110)\u001b[K\rremote: Counting objects:  87% (96/110)\u001b[K\rremote: Counting objects:  88% (97/110)\u001b[K\rremote: Counting objects:  89% (98/110)\u001b[K\rremote: Counting objects:  90% (99/110)\u001b[K\rremote: Counting objects:  91% (101/110)\u001b[K\rremote: Counting objects:  92% (102/110)\u001b[K\rremote: Counting objects:  93% (103/110)\u001b[K\rremote: Counting objects:  94% (104/110)\u001b[K\rremote: Counting objects:  95% (105/110)\u001b[K\rremote: Counting objects:  96% (106/110)\u001b[K\rremote: Counting objects:  97% (107/110)\u001b[K\rremote: Counting objects:  98% (108/110)\u001b[K\rremote: Counting objects:  99% (109/110)\u001b[K\rremote: Counting objects: 100% (110/110)\u001b[K\rremote: Counting objects: 100% (110/110), done.\u001b[K\n",
            "remote: Compressing objects: 100% (86/86), done.\u001b[K\n",
            "remote: Total 17137 (delta 47), reused 76 (delta 24), pack-reused 17027\u001b[K\n",
            "Receiving objects: 100% (17137/17137), 245.19 MiB | 29.89 MiB/s, done.\n",
            "Resolving deltas: 100% (47/47), done.\n",
            "Checking out files: 100% (17041/17041), done.\n"
          ],
          "name": "stdout"
        }
      ]
    },
    {
      "cell_type": "code",
      "metadata": {
        "id": "O2XxpVF8Raju",
        "colab_type": "code",
        "outputId": "a0018138-8070-4e16-9302-2b5b300c9b34",
        "colab": {
          "base_uri": "https://localhost:8080/",
          "height": 34
        }
      },
      "source": [
        "cd proj1"
      ],
      "execution_count": 27,
      "outputs": [
        {
          "output_type": "stream",
          "text": [
            "/content/proj1/proj1/proj1\n"
          ],
          "name": "stdout"
        }
      ]
    },
    {
      "cell_type": "code",
      "metadata": {
        "id": "nFYYHgDIRbzW",
        "colab_type": "code",
        "colab": {}
      },
      "source": [
        "import Resize\n"
      ],
      "execution_count": 0,
      "outputs": []
    },
    {
      "cell_type": "code",
      "metadata": {
        "id": "_aou4ay4peRh",
        "colab_type": "code",
        "outputId": "a5d6dfd7-ef40-456c-cabd-4c6b2633d406",
        "colab": {
          "base_uri": "https://localhost:8080/",
          "height": 51
        }
      },
      "source": [
        "ls"
      ],
      "execution_count": 29,
      "outputs": [
        {
          "output_type": "stream",
          "text": [
            "base.ipynb   modifed_res.ipynb  Request.py  \u001b[0m\u001b[01;34mtest\u001b[0m/\n",
            "bottle_2.h5  \u001b[01;34m__pycache__\u001b[0m/       Resize.py   \u001b[01;34mtrain\u001b[0m/\n"
          ],
          "name": "stdout"
        }
      ]
    },
    {
      "cell_type": "code",
      "metadata": {
        "id": "pka2wa-CRc6m",
        "colab_type": "code",
        "outputId": "08a668dc-ce06-4f98-fe97-689f5abe90b9",
        "colab": {
          "base_uri": "https://localhost:8080/",
          "height": 34
        }
      },
      "source": [
        "X_train,Y_train = Resize.train(160)"
      ],
      "execution_count": 30,
      "outputs": [
        {
          "output_type": "stream",
          "text": [
            "input_size :  160\n"
          ],
          "name": "stdout"
        }
      ]
    },
    {
      "cell_type": "code",
      "metadata": {
        "id": "wKkESR28RgEm",
        "colab_type": "code",
        "colab": {}
      },
      "source": [
        "X_test,X_id = Resize.test(160)"
      ],
      "execution_count": 0,
      "outputs": []
    },
    {
      "cell_type": "code",
      "metadata": {
        "id": "p5LYzePzRmsV",
        "colab_type": "code",
        "outputId": "64859a65-0c75-46f4-df61-a4f51ec32d35",
        "colab": {
          "base_uri": "https://localhost:8080/",
          "height": 34
        }
      },
      "source": [
        "from tensorflow.keras.utils import to_categorical\n",
        "Y_train = to_categorical(Y_train)\n",
        "print(X_train.shape,Y_train.shape)"
      ],
      "execution_count": 32,
      "outputs": [
        {
          "output_type": "stream",
          "text": [
            "(14034, 160, 160, 3) (14034, 6)\n"
          ],
          "name": "stdout"
        }
      ]
    },
    {
      "cell_type": "code",
      "metadata": {
        "id": "iw8xd2YDRtLp",
        "colab_type": "code",
        "colab": {}
      },
      "source": [
        "from keras import Input\n",
        "from keras.models import Model\n",
        "from keras.layers import BatchNormalization, Convolution2D, MaxPooling2D\n",
        "from keras.layers import GlobalAveragePooling2D, Dense, Activation, Dropout\n",
        "from keras.layers import Add, ZeroPadding2D, Flatten\n",
        "\n",
        "def input_block(x):\n",
        "    \n",
        "    x = Convolution2D(32, (3,3), strides = (1,1),padding='same', kernel_initializer = 'he_normal')(x)\n",
        "    x = BatchNormalization()(x)\n",
        "    x = Activation('relu')(x)\n",
        "\n",
        "    x = Convolution2D(32, (3,3), strides = (1,1), padding='same', kernel_initializer = 'he_normal')(x)\n",
        "    x = BatchNormalization()(x)\n",
        "    x = Activation('relu')(x)\n",
        "\n",
        "\n",
        "    return x"
      ],
      "execution_count": 0,
      "outputs": []
    },
    {
      "cell_type": "code",
      "metadata": {
        "id": "4eZFz0lson_c",
        "colab_type": "code",
        "colab": {}
      },
      "source": [
        "import keras.layers"
      ],
      "execution_count": 0,
      "outputs": []
    },
    {
      "cell_type": "code",
      "metadata": {
        "id": "kfTl79JOTJjj",
        "colab_type": "code",
        "colab": {}
      },
      "source": [
        "def bottle_neck(x,channels,d_increase=False):\n",
        "    channel_1,channel_2,channel_3 = channels\n",
        "    shortcut = x  \n",
        "\n",
        "           \n",
        "    if d_increase == True:\n",
        "        x = MaxPooling2D((2,2))(x)\n",
        "\n",
        "        x = Convolution2D(channel_1,kernel_size=(1,1),strides=(1,1),padding=\"same\",kernel_initializer='he_normal')(x)\n",
        "        x = BatchNormalization()(x)\n",
        "        x = Activation('relu')(x)\n",
        "\n",
        "        x = Convolution2D(channel_2,kernel_size=(3,3), padding = \"same\", kernel_initializer = 'he_normal')(x)        \n",
        "        x = BatchNormalization()(x)\n",
        "        x = Activation('relu')(x)\n",
        "        \n",
        "        shortcut = Convolution2D(channel_3,kernel_size=(1,1),strides=(2,2),padding='valid',kernel_initializer='he_normal')(shortcut)\n",
        "   \n",
        "    else:\n",
        "        x = Convolution2D(channel_1,kernel_size=(1,1),strides=(1,1),padding=\"same\",kernel_initializer='he_normal')(x)\n",
        "        x = BatchNormalization()(x)\n",
        "        x = Activation('relu')(x)\n",
        "\n",
        "        x = Convolution2D(channel_2, kernel_size=(3,3), padding = \"same\", kernel_initializer = 'he_normal')(x)\n",
        "        x = BatchNormalization()(x)\n",
        "        x = Activation('relu')(x)\n",
        "\n",
        "    #1x1 convolution dim re-increase\n",
        "    x = Convolution2D(channel_3, kernel_size=(1,1), padding = \"valid\", kernel_initializer = 'he_normal')(x)\n",
        "    x = BatchNormalization()(x)\n",
        "    shortcut = BatchNormalization()(shortcut)\n",
        "\n",
        "    x = Add()([x,shortcut])\n",
        "    x = Activation('relu')(x)\n",
        "    return x"
      ],
      "execution_count": 0,
      "outputs": []
    },
    {
      "cell_type": "code",
      "metadata": {
        "id": "03yQuclyRzoA",
        "colab_type": "code",
        "colab": {}
      },
      "source": [
        "def block_group(x, channels, num_blocks):\n",
        "    for i in range(num_blocks):\n",
        "        if i==0 :\n",
        "            x = bottle_neck(x,channels,True)            \n",
        "        else:\n",
        "            x = bottle_neck(x,channels,)    \n",
        "    return x"
      ],
      "execution_count": 0,
      "outputs": []
    },
    {
      "cell_type": "code",
      "metadata": {
        "id": "VP4ViG5TRzyo",
        "colab_type": "code",
        "colab": {}
      },
      "source": [
        "def result(x, channels=64):\n",
        "    input_data=x            #150 * 150 *3\n",
        "    x = input_block(x)\n",
        "\n",
        "    x = block_group(x, [16,16,64], 3)\n",
        "    \n",
        "    x = block_group(x, [32,32,128], 4)\n",
        "\n",
        "    x = block_group(x, [64,64,256], 8)\n",
        "\n",
        "    \n",
        "    x = GlobalAveragePooling2D()(x)\n",
        "    output_data = Dense(6,activation='softmax')(x)\n",
        "    \n",
        "    model = Model(input_data,output_data)\n",
        "    model.compile(loss='categorical_crossentropy', optimizer='adam', metrics=['accuracy'])\n",
        "        \n",
        "    return model"
      ],
      "execution_count": 0,
      "outputs": []
    },
    {
      "cell_type": "code",
      "metadata": {
        "id": "U2NSvXHNR1EY",
        "colab_type": "code",
        "colab": {}
      },
      "source": [
        "inputs = Input(shape=(160,160,3),dtype='float32')\n",
        "model = result(inputs)"
      ],
      "execution_count": 0,
      "outputs": []
    },
    {
      "cell_type": "code",
      "metadata": {
        "id": "nZrh5DfFR3GQ",
        "colab_type": "code",
        "outputId": "a3564d5e-9098-4ba5-c7c3-4cb77d0953d9",
        "colab": {
          "base_uri": "https://localhost:8080/",
          "height": 1000
        }
      },
      "source": [
        "model.summary()"
      ],
      "execution_count": 39,
      "outputs": [
        {
          "output_type": "stream",
          "text": [
            "Model: \"model_2\"\n",
            "__________________________________________________________________________________________________\n",
            "Layer (type)                    Output Shape         Param #     Connected to                     \n",
            "==================================================================================================\n",
            "input_2 (InputLayer)            (None, 160, 160, 3)  0                                            \n",
            "__________________________________________________________________________________________________\n",
            "conv2d_51 (Conv2D)              (None, 160, 160, 32) 896         input_2[0][0]                    \n",
            "__________________________________________________________________________________________________\n",
            "batch_normalization_63 (BatchNo (None, 160, 160, 32) 128         conv2d_51[0][0]                  \n",
            "__________________________________________________________________________________________________\n",
            "activation_48 (Activation)      (None, 160, 160, 32) 0           batch_normalization_63[0][0]     \n",
            "__________________________________________________________________________________________________\n",
            "conv2d_52 (Conv2D)              (None, 160, 160, 32) 9248        activation_48[0][0]              \n",
            "__________________________________________________________________________________________________\n",
            "batch_normalization_64 (BatchNo (None, 160, 160, 32) 128         conv2d_52[0][0]                  \n",
            "__________________________________________________________________________________________________\n",
            "activation_49 (Activation)      (None, 160, 160, 32) 0           batch_normalization_64[0][0]     \n",
            "__________________________________________________________________________________________________\n",
            "max_pooling2d_4 (MaxPooling2D)  (None, 80, 80, 32)   0           activation_49[0][0]              \n",
            "__________________________________________________________________________________________________\n",
            "conv2d_53 (Conv2D)              (None, 80, 80, 16)   528         max_pooling2d_4[0][0]            \n",
            "__________________________________________________________________________________________________\n",
            "batch_normalization_65 (BatchNo (None, 80, 80, 16)   64          conv2d_53[0][0]                  \n",
            "__________________________________________________________________________________________________\n",
            "activation_50 (Activation)      (None, 80, 80, 16)   0           batch_normalization_65[0][0]     \n",
            "__________________________________________________________________________________________________\n",
            "conv2d_54 (Conv2D)              (None, 80, 80, 16)   2320        activation_50[0][0]              \n",
            "__________________________________________________________________________________________________\n",
            "batch_normalization_66 (BatchNo (None, 80, 80, 16)   64          conv2d_54[0][0]                  \n",
            "__________________________________________________________________________________________________\n",
            "activation_51 (Activation)      (None, 80, 80, 16)   0           batch_normalization_66[0][0]     \n",
            "__________________________________________________________________________________________________\n",
            "conv2d_56 (Conv2D)              (None, 80, 80, 64)   1088        activation_51[0][0]              \n",
            "__________________________________________________________________________________________________\n",
            "conv2d_55 (Conv2D)              (None, 80, 80, 64)   2112        activation_49[0][0]              \n",
            "__________________________________________________________________________________________________\n",
            "batch_normalization_67 (BatchNo (None, 80, 80, 64)   256         conv2d_56[0][0]                  \n",
            "__________________________________________________________________________________________________\n",
            "batch_normalization_68 (BatchNo (None, 80, 80, 64)   256         conv2d_55[0][0]                  \n",
            "__________________________________________________________________________________________________\n",
            "add_16 (Add)                    (None, 80, 80, 64)   0           batch_normalization_67[0][0]     \n",
            "                                                                 batch_normalization_68[0][0]     \n",
            "__________________________________________________________________________________________________\n",
            "activation_52 (Activation)      (None, 80, 80, 64)   0           add_16[0][0]                     \n",
            "__________________________________________________________________________________________________\n",
            "conv2d_57 (Conv2D)              (None, 80, 80, 16)   1040        activation_52[0][0]              \n",
            "__________________________________________________________________________________________________\n",
            "batch_normalization_69 (BatchNo (None, 80, 80, 16)   64          conv2d_57[0][0]                  \n",
            "__________________________________________________________________________________________________\n",
            "activation_53 (Activation)      (None, 80, 80, 16)   0           batch_normalization_69[0][0]     \n",
            "__________________________________________________________________________________________________\n",
            "conv2d_58 (Conv2D)              (None, 80, 80, 16)   2320        activation_53[0][0]              \n",
            "__________________________________________________________________________________________________\n",
            "batch_normalization_70 (BatchNo (None, 80, 80, 16)   64          conv2d_58[0][0]                  \n",
            "__________________________________________________________________________________________________\n",
            "activation_54 (Activation)      (None, 80, 80, 16)   0           batch_normalization_70[0][0]     \n",
            "__________________________________________________________________________________________________\n",
            "conv2d_59 (Conv2D)              (None, 80, 80, 64)   1088        activation_54[0][0]              \n",
            "__________________________________________________________________________________________________\n",
            "batch_normalization_71 (BatchNo (None, 80, 80, 64)   256         conv2d_59[0][0]                  \n",
            "__________________________________________________________________________________________________\n",
            "batch_normalization_72 (BatchNo (None, 80, 80, 64)   256         activation_52[0][0]              \n",
            "__________________________________________________________________________________________________\n",
            "add_17 (Add)                    (None, 80, 80, 64)   0           batch_normalization_71[0][0]     \n",
            "                                                                 batch_normalization_72[0][0]     \n",
            "__________________________________________________________________________________________________\n",
            "activation_55 (Activation)      (None, 80, 80, 64)   0           add_17[0][0]                     \n",
            "__________________________________________________________________________________________________\n",
            "conv2d_60 (Conv2D)              (None, 80, 80, 16)   1040        activation_55[0][0]              \n",
            "__________________________________________________________________________________________________\n",
            "batch_normalization_73 (BatchNo (None, 80, 80, 16)   64          conv2d_60[0][0]                  \n",
            "__________________________________________________________________________________________________\n",
            "activation_56 (Activation)      (None, 80, 80, 16)   0           batch_normalization_73[0][0]     \n",
            "__________________________________________________________________________________________________\n",
            "conv2d_61 (Conv2D)              (None, 80, 80, 16)   2320        activation_56[0][0]              \n",
            "__________________________________________________________________________________________________\n",
            "batch_normalization_74 (BatchNo (None, 80, 80, 16)   64          conv2d_61[0][0]                  \n",
            "__________________________________________________________________________________________________\n",
            "activation_57 (Activation)      (None, 80, 80, 16)   0           batch_normalization_74[0][0]     \n",
            "__________________________________________________________________________________________________\n",
            "conv2d_62 (Conv2D)              (None, 80, 80, 64)   1088        activation_57[0][0]              \n",
            "__________________________________________________________________________________________________\n",
            "batch_normalization_75 (BatchNo (None, 80, 80, 64)   256         conv2d_62[0][0]                  \n",
            "__________________________________________________________________________________________________\n",
            "batch_normalization_76 (BatchNo (None, 80, 80, 64)   256         activation_55[0][0]              \n",
            "__________________________________________________________________________________________________\n",
            "add_18 (Add)                    (None, 80, 80, 64)   0           batch_normalization_75[0][0]     \n",
            "                                                                 batch_normalization_76[0][0]     \n",
            "__________________________________________________________________________________________________\n",
            "activation_58 (Activation)      (None, 80, 80, 64)   0           add_18[0][0]                     \n",
            "__________________________________________________________________________________________________\n",
            "max_pooling2d_5 (MaxPooling2D)  (None, 40, 40, 64)   0           activation_58[0][0]              \n",
            "__________________________________________________________________________________________________\n",
            "conv2d_63 (Conv2D)              (None, 40, 40, 32)   2080        max_pooling2d_5[0][0]            \n",
            "__________________________________________________________________________________________________\n",
            "batch_normalization_77 (BatchNo (None, 40, 40, 32)   128         conv2d_63[0][0]                  \n",
            "__________________________________________________________________________________________________\n",
            "activation_59 (Activation)      (None, 40, 40, 32)   0           batch_normalization_77[0][0]     \n",
            "__________________________________________________________________________________________________\n",
            "conv2d_64 (Conv2D)              (None, 40, 40, 32)   9248        activation_59[0][0]              \n",
            "__________________________________________________________________________________________________\n",
            "batch_normalization_78 (BatchNo (None, 40, 40, 32)   128         conv2d_64[0][0]                  \n",
            "__________________________________________________________________________________________________\n",
            "activation_60 (Activation)      (None, 40, 40, 32)   0           batch_normalization_78[0][0]     \n",
            "__________________________________________________________________________________________________\n",
            "conv2d_66 (Conv2D)              (None, 40, 40, 128)  4224        activation_60[0][0]              \n",
            "__________________________________________________________________________________________________\n",
            "conv2d_65 (Conv2D)              (None, 40, 40, 128)  8320        activation_58[0][0]              \n",
            "__________________________________________________________________________________________________\n",
            "batch_normalization_79 (BatchNo (None, 40, 40, 128)  512         conv2d_66[0][0]                  \n",
            "__________________________________________________________________________________________________\n",
            "batch_normalization_80 (BatchNo (None, 40, 40, 128)  512         conv2d_65[0][0]                  \n",
            "__________________________________________________________________________________________________\n",
            "add_19 (Add)                    (None, 40, 40, 128)  0           batch_normalization_79[0][0]     \n",
            "                                                                 batch_normalization_80[0][0]     \n",
            "__________________________________________________________________________________________________\n",
            "activation_61 (Activation)      (None, 40, 40, 128)  0           add_19[0][0]                     \n",
            "__________________________________________________________________________________________________\n",
            "conv2d_67 (Conv2D)              (None, 40, 40, 32)   4128        activation_61[0][0]              \n",
            "__________________________________________________________________________________________________\n",
            "batch_normalization_81 (BatchNo (None, 40, 40, 32)   128         conv2d_67[0][0]                  \n",
            "__________________________________________________________________________________________________\n",
            "activation_62 (Activation)      (None, 40, 40, 32)   0           batch_normalization_81[0][0]     \n",
            "__________________________________________________________________________________________________\n",
            "conv2d_68 (Conv2D)              (None, 40, 40, 32)   9248        activation_62[0][0]              \n",
            "__________________________________________________________________________________________________\n",
            "batch_normalization_82 (BatchNo (None, 40, 40, 32)   128         conv2d_68[0][0]                  \n",
            "__________________________________________________________________________________________________\n",
            "activation_63 (Activation)      (None, 40, 40, 32)   0           batch_normalization_82[0][0]     \n",
            "__________________________________________________________________________________________________\n",
            "conv2d_69 (Conv2D)              (None, 40, 40, 128)  4224        activation_63[0][0]              \n",
            "__________________________________________________________________________________________________\n",
            "batch_normalization_83 (BatchNo (None, 40, 40, 128)  512         conv2d_69[0][0]                  \n",
            "__________________________________________________________________________________________________\n",
            "batch_normalization_84 (BatchNo (None, 40, 40, 128)  512         activation_61[0][0]              \n",
            "__________________________________________________________________________________________________\n",
            "add_20 (Add)                    (None, 40, 40, 128)  0           batch_normalization_83[0][0]     \n",
            "                                                                 batch_normalization_84[0][0]     \n",
            "__________________________________________________________________________________________________\n",
            "activation_64 (Activation)      (None, 40, 40, 128)  0           add_20[0][0]                     \n",
            "__________________________________________________________________________________________________\n",
            "conv2d_70 (Conv2D)              (None, 40, 40, 32)   4128        activation_64[0][0]              \n",
            "__________________________________________________________________________________________________\n",
            "batch_normalization_85 (BatchNo (None, 40, 40, 32)   128         conv2d_70[0][0]                  \n",
            "__________________________________________________________________________________________________\n",
            "activation_65 (Activation)      (None, 40, 40, 32)   0           batch_normalization_85[0][0]     \n",
            "__________________________________________________________________________________________________\n",
            "conv2d_71 (Conv2D)              (None, 40, 40, 32)   9248        activation_65[0][0]              \n",
            "__________________________________________________________________________________________________\n",
            "batch_normalization_86 (BatchNo (None, 40, 40, 32)   128         conv2d_71[0][0]                  \n",
            "__________________________________________________________________________________________________\n",
            "activation_66 (Activation)      (None, 40, 40, 32)   0           batch_normalization_86[0][0]     \n",
            "__________________________________________________________________________________________________\n",
            "conv2d_72 (Conv2D)              (None, 40, 40, 128)  4224        activation_66[0][0]              \n",
            "__________________________________________________________________________________________________\n",
            "batch_normalization_87 (BatchNo (None, 40, 40, 128)  512         conv2d_72[0][0]                  \n",
            "__________________________________________________________________________________________________\n",
            "batch_normalization_88 (BatchNo (None, 40, 40, 128)  512         activation_64[0][0]              \n",
            "__________________________________________________________________________________________________\n",
            "add_21 (Add)                    (None, 40, 40, 128)  0           batch_normalization_87[0][0]     \n",
            "                                                                 batch_normalization_88[0][0]     \n",
            "__________________________________________________________________________________________________\n",
            "activation_67 (Activation)      (None, 40, 40, 128)  0           add_21[0][0]                     \n",
            "__________________________________________________________________________________________________\n",
            "conv2d_73 (Conv2D)              (None, 40, 40, 32)   4128        activation_67[0][0]              \n",
            "__________________________________________________________________________________________________\n",
            "batch_normalization_89 (BatchNo (None, 40, 40, 32)   128         conv2d_73[0][0]                  \n",
            "__________________________________________________________________________________________________\n",
            "activation_68 (Activation)      (None, 40, 40, 32)   0           batch_normalization_89[0][0]     \n",
            "__________________________________________________________________________________________________\n",
            "conv2d_74 (Conv2D)              (None, 40, 40, 32)   9248        activation_68[0][0]              \n",
            "__________________________________________________________________________________________________\n",
            "batch_normalization_90 (BatchNo (None, 40, 40, 32)   128         conv2d_74[0][0]                  \n",
            "__________________________________________________________________________________________________\n",
            "activation_69 (Activation)      (None, 40, 40, 32)   0           batch_normalization_90[0][0]     \n",
            "__________________________________________________________________________________________________\n",
            "conv2d_75 (Conv2D)              (None, 40, 40, 128)  4224        activation_69[0][0]              \n",
            "__________________________________________________________________________________________________\n",
            "batch_normalization_91 (BatchNo (None, 40, 40, 128)  512         conv2d_75[0][0]                  \n",
            "__________________________________________________________________________________________________\n",
            "batch_normalization_92 (BatchNo (None, 40, 40, 128)  512         activation_67[0][0]              \n",
            "__________________________________________________________________________________________________\n",
            "add_22 (Add)                    (None, 40, 40, 128)  0           batch_normalization_91[0][0]     \n",
            "                                                                 batch_normalization_92[0][0]     \n",
            "__________________________________________________________________________________________________\n",
            "activation_70 (Activation)      (None, 40, 40, 128)  0           add_22[0][0]                     \n",
            "__________________________________________________________________________________________________\n",
            "max_pooling2d_6 (MaxPooling2D)  (None, 20, 20, 128)  0           activation_70[0][0]              \n",
            "__________________________________________________________________________________________________\n",
            "conv2d_76 (Conv2D)              (None, 20, 20, 64)   8256        max_pooling2d_6[0][0]            \n",
            "__________________________________________________________________________________________________\n",
            "batch_normalization_93 (BatchNo (None, 20, 20, 64)   256         conv2d_76[0][0]                  \n",
            "__________________________________________________________________________________________________\n",
            "activation_71 (Activation)      (None, 20, 20, 64)   0           batch_normalization_93[0][0]     \n",
            "__________________________________________________________________________________________________\n",
            "conv2d_77 (Conv2D)              (None, 20, 20, 64)   36928       activation_71[0][0]              \n",
            "__________________________________________________________________________________________________\n",
            "batch_normalization_94 (BatchNo (None, 20, 20, 64)   256         conv2d_77[0][0]                  \n",
            "__________________________________________________________________________________________________\n",
            "activation_72 (Activation)      (None, 20, 20, 64)   0           batch_normalization_94[0][0]     \n",
            "__________________________________________________________________________________________________\n",
            "conv2d_79 (Conv2D)              (None, 20, 20, 256)  16640       activation_72[0][0]              \n",
            "__________________________________________________________________________________________________\n",
            "conv2d_78 (Conv2D)              (None, 20, 20, 256)  33024       activation_70[0][0]              \n",
            "__________________________________________________________________________________________________\n",
            "batch_normalization_95 (BatchNo (None, 20, 20, 256)  1024        conv2d_79[0][0]                  \n",
            "__________________________________________________________________________________________________\n",
            "batch_normalization_96 (BatchNo (None, 20, 20, 256)  1024        conv2d_78[0][0]                  \n",
            "__________________________________________________________________________________________________\n",
            "add_23 (Add)                    (None, 20, 20, 256)  0           batch_normalization_95[0][0]     \n",
            "                                                                 batch_normalization_96[0][0]     \n",
            "__________________________________________________________________________________________________\n",
            "activation_73 (Activation)      (None, 20, 20, 256)  0           add_23[0][0]                     \n",
            "__________________________________________________________________________________________________\n",
            "conv2d_80 (Conv2D)              (None, 20, 20, 64)   16448       activation_73[0][0]              \n",
            "__________________________________________________________________________________________________\n",
            "batch_normalization_97 (BatchNo (None, 20, 20, 64)   256         conv2d_80[0][0]                  \n",
            "__________________________________________________________________________________________________\n",
            "activation_74 (Activation)      (None, 20, 20, 64)   0           batch_normalization_97[0][0]     \n",
            "__________________________________________________________________________________________________\n",
            "conv2d_81 (Conv2D)              (None, 20, 20, 64)   36928       activation_74[0][0]              \n",
            "__________________________________________________________________________________________________\n",
            "batch_normalization_98 (BatchNo (None, 20, 20, 64)   256         conv2d_81[0][0]                  \n",
            "__________________________________________________________________________________________________\n",
            "activation_75 (Activation)      (None, 20, 20, 64)   0           batch_normalization_98[0][0]     \n",
            "__________________________________________________________________________________________________\n",
            "conv2d_82 (Conv2D)              (None, 20, 20, 256)  16640       activation_75[0][0]              \n",
            "__________________________________________________________________________________________________\n",
            "batch_normalization_99 (BatchNo (None, 20, 20, 256)  1024        conv2d_82[0][0]                  \n",
            "__________________________________________________________________________________________________\n",
            "batch_normalization_100 (BatchN (None, 20, 20, 256)  1024        activation_73[0][0]              \n",
            "__________________________________________________________________________________________________\n",
            "add_24 (Add)                    (None, 20, 20, 256)  0           batch_normalization_99[0][0]     \n",
            "                                                                 batch_normalization_100[0][0]    \n",
            "__________________________________________________________________________________________________\n",
            "activation_76 (Activation)      (None, 20, 20, 256)  0           add_24[0][0]                     \n",
            "__________________________________________________________________________________________________\n",
            "conv2d_83 (Conv2D)              (None, 20, 20, 64)   16448       activation_76[0][0]              \n",
            "__________________________________________________________________________________________________\n",
            "batch_normalization_101 (BatchN (None, 20, 20, 64)   256         conv2d_83[0][0]                  \n",
            "__________________________________________________________________________________________________\n",
            "activation_77 (Activation)      (None, 20, 20, 64)   0           batch_normalization_101[0][0]    \n",
            "__________________________________________________________________________________________________\n",
            "conv2d_84 (Conv2D)              (None, 20, 20, 64)   36928       activation_77[0][0]              \n",
            "__________________________________________________________________________________________________\n",
            "batch_normalization_102 (BatchN (None, 20, 20, 64)   256         conv2d_84[0][0]                  \n",
            "__________________________________________________________________________________________________\n",
            "activation_78 (Activation)      (None, 20, 20, 64)   0           batch_normalization_102[0][0]    \n",
            "__________________________________________________________________________________________________\n",
            "conv2d_85 (Conv2D)              (None, 20, 20, 256)  16640       activation_78[0][0]              \n",
            "__________________________________________________________________________________________________\n",
            "batch_normalization_103 (BatchN (None, 20, 20, 256)  1024        conv2d_85[0][0]                  \n",
            "__________________________________________________________________________________________________\n",
            "batch_normalization_104 (BatchN (None, 20, 20, 256)  1024        activation_76[0][0]              \n",
            "__________________________________________________________________________________________________\n",
            "add_25 (Add)                    (None, 20, 20, 256)  0           batch_normalization_103[0][0]    \n",
            "                                                                 batch_normalization_104[0][0]    \n",
            "__________________________________________________________________________________________________\n",
            "activation_79 (Activation)      (None, 20, 20, 256)  0           add_25[0][0]                     \n",
            "__________________________________________________________________________________________________\n",
            "conv2d_86 (Conv2D)              (None, 20, 20, 64)   16448       activation_79[0][0]              \n",
            "__________________________________________________________________________________________________\n",
            "batch_normalization_105 (BatchN (None, 20, 20, 64)   256         conv2d_86[0][0]                  \n",
            "__________________________________________________________________________________________________\n",
            "activation_80 (Activation)      (None, 20, 20, 64)   0           batch_normalization_105[0][0]    \n",
            "__________________________________________________________________________________________________\n",
            "conv2d_87 (Conv2D)              (None, 20, 20, 64)   36928       activation_80[0][0]              \n",
            "__________________________________________________________________________________________________\n",
            "batch_normalization_106 (BatchN (None, 20, 20, 64)   256         conv2d_87[0][0]                  \n",
            "__________________________________________________________________________________________________\n",
            "activation_81 (Activation)      (None, 20, 20, 64)   0           batch_normalization_106[0][0]    \n",
            "__________________________________________________________________________________________________\n",
            "conv2d_88 (Conv2D)              (None, 20, 20, 256)  16640       activation_81[0][0]              \n",
            "__________________________________________________________________________________________________\n",
            "batch_normalization_107 (BatchN (None, 20, 20, 256)  1024        conv2d_88[0][0]                  \n",
            "__________________________________________________________________________________________________\n",
            "batch_normalization_108 (BatchN (None, 20, 20, 256)  1024        activation_79[0][0]              \n",
            "__________________________________________________________________________________________________\n",
            "add_26 (Add)                    (None, 20, 20, 256)  0           batch_normalization_107[0][0]    \n",
            "                                                                 batch_normalization_108[0][0]    \n",
            "__________________________________________________________________________________________________\n",
            "activation_82 (Activation)      (None, 20, 20, 256)  0           add_26[0][0]                     \n",
            "__________________________________________________________________________________________________\n",
            "conv2d_89 (Conv2D)              (None, 20, 20, 64)   16448       activation_82[0][0]              \n",
            "__________________________________________________________________________________________________\n",
            "batch_normalization_109 (BatchN (None, 20, 20, 64)   256         conv2d_89[0][0]                  \n",
            "__________________________________________________________________________________________________\n",
            "activation_83 (Activation)      (None, 20, 20, 64)   0           batch_normalization_109[0][0]    \n",
            "__________________________________________________________________________________________________\n",
            "conv2d_90 (Conv2D)              (None, 20, 20, 64)   36928       activation_83[0][0]              \n",
            "__________________________________________________________________________________________________\n",
            "batch_normalization_110 (BatchN (None, 20, 20, 64)   256         conv2d_90[0][0]                  \n",
            "__________________________________________________________________________________________________\n",
            "activation_84 (Activation)      (None, 20, 20, 64)   0           batch_normalization_110[0][0]    \n",
            "__________________________________________________________________________________________________\n",
            "conv2d_91 (Conv2D)              (None, 20, 20, 256)  16640       activation_84[0][0]              \n",
            "__________________________________________________________________________________________________\n",
            "batch_normalization_111 (BatchN (None, 20, 20, 256)  1024        conv2d_91[0][0]                  \n",
            "__________________________________________________________________________________________________\n",
            "batch_normalization_112 (BatchN (None, 20, 20, 256)  1024        activation_82[0][0]              \n",
            "__________________________________________________________________________________________________\n",
            "add_27 (Add)                    (None, 20, 20, 256)  0           batch_normalization_111[0][0]    \n",
            "                                                                 batch_normalization_112[0][0]    \n",
            "__________________________________________________________________________________________________\n",
            "activation_85 (Activation)      (None, 20, 20, 256)  0           add_27[0][0]                     \n",
            "__________________________________________________________________________________________________\n",
            "conv2d_92 (Conv2D)              (None, 20, 20, 64)   16448       activation_85[0][0]              \n",
            "__________________________________________________________________________________________________\n",
            "batch_normalization_113 (BatchN (None, 20, 20, 64)   256         conv2d_92[0][0]                  \n",
            "__________________________________________________________________________________________________\n",
            "activation_86 (Activation)      (None, 20, 20, 64)   0           batch_normalization_113[0][0]    \n",
            "__________________________________________________________________________________________________\n",
            "conv2d_93 (Conv2D)              (None, 20, 20, 64)   36928       activation_86[0][0]              \n",
            "__________________________________________________________________________________________________\n",
            "batch_normalization_114 (BatchN (None, 20, 20, 64)   256         conv2d_93[0][0]                  \n",
            "__________________________________________________________________________________________________\n",
            "activation_87 (Activation)      (None, 20, 20, 64)   0           batch_normalization_114[0][0]    \n",
            "__________________________________________________________________________________________________\n",
            "conv2d_94 (Conv2D)              (None, 20, 20, 256)  16640       activation_87[0][0]              \n",
            "__________________________________________________________________________________________________\n",
            "batch_normalization_115 (BatchN (None, 20, 20, 256)  1024        conv2d_94[0][0]                  \n",
            "__________________________________________________________________________________________________\n",
            "batch_normalization_116 (BatchN (None, 20, 20, 256)  1024        activation_85[0][0]              \n",
            "__________________________________________________________________________________________________\n",
            "add_28 (Add)                    (None, 20, 20, 256)  0           batch_normalization_115[0][0]    \n",
            "                                                                 batch_normalization_116[0][0]    \n",
            "__________________________________________________________________________________________________\n",
            "activation_88 (Activation)      (None, 20, 20, 256)  0           add_28[0][0]                     \n",
            "__________________________________________________________________________________________________\n",
            "conv2d_95 (Conv2D)              (None, 20, 20, 64)   16448       activation_88[0][0]              \n",
            "__________________________________________________________________________________________________\n",
            "batch_normalization_117 (BatchN (None, 20, 20, 64)   256         conv2d_95[0][0]                  \n",
            "__________________________________________________________________________________________________\n",
            "activation_89 (Activation)      (None, 20, 20, 64)   0           batch_normalization_117[0][0]    \n",
            "__________________________________________________________________________________________________\n",
            "conv2d_96 (Conv2D)              (None, 20, 20, 64)   36928       activation_89[0][0]              \n",
            "__________________________________________________________________________________________________\n",
            "batch_normalization_118 (BatchN (None, 20, 20, 64)   256         conv2d_96[0][0]                  \n",
            "__________________________________________________________________________________________________\n",
            "activation_90 (Activation)      (None, 20, 20, 64)   0           batch_normalization_118[0][0]    \n",
            "__________________________________________________________________________________________________\n",
            "conv2d_97 (Conv2D)              (None, 20, 20, 256)  16640       activation_90[0][0]              \n",
            "__________________________________________________________________________________________________\n",
            "batch_normalization_119 (BatchN (None, 20, 20, 256)  1024        conv2d_97[0][0]                  \n",
            "__________________________________________________________________________________________________\n",
            "batch_normalization_120 (BatchN (None, 20, 20, 256)  1024        activation_88[0][0]              \n",
            "__________________________________________________________________________________________________\n",
            "add_29 (Add)                    (None, 20, 20, 256)  0           batch_normalization_119[0][0]    \n",
            "                                                                 batch_normalization_120[0][0]    \n",
            "__________________________________________________________________________________________________\n",
            "activation_91 (Activation)      (None, 20, 20, 256)  0           add_29[0][0]                     \n",
            "__________________________________________________________________________________________________\n",
            "conv2d_98 (Conv2D)              (None, 20, 20, 64)   16448       activation_91[0][0]              \n",
            "__________________________________________________________________________________________________\n",
            "batch_normalization_121 (BatchN (None, 20, 20, 64)   256         conv2d_98[0][0]                  \n",
            "__________________________________________________________________________________________________\n",
            "activation_92 (Activation)      (None, 20, 20, 64)   0           batch_normalization_121[0][0]    \n",
            "__________________________________________________________________________________________________\n",
            "conv2d_99 (Conv2D)              (None, 20, 20, 64)   36928       activation_92[0][0]              \n",
            "__________________________________________________________________________________________________\n",
            "batch_normalization_122 (BatchN (None, 20, 20, 64)   256         conv2d_99[0][0]                  \n",
            "__________________________________________________________________________________________________\n",
            "activation_93 (Activation)      (None, 20, 20, 64)   0           batch_normalization_122[0][0]    \n",
            "__________________________________________________________________________________________________\n",
            "conv2d_100 (Conv2D)             (None, 20, 20, 256)  16640       activation_93[0][0]              \n",
            "__________________________________________________________________________________________________\n",
            "batch_normalization_123 (BatchN (None, 20, 20, 256)  1024        conv2d_100[0][0]                 \n",
            "__________________________________________________________________________________________________\n",
            "batch_normalization_124 (BatchN (None, 20, 20, 256)  1024        activation_91[0][0]              \n",
            "__________________________________________________________________________________________________\n",
            "add_30 (Add)                    (None, 20, 20, 256)  0           batch_normalization_123[0][0]    \n",
            "                                                                 batch_normalization_124[0][0]    \n",
            "__________________________________________________________________________________________________\n",
            "activation_94 (Activation)      (None, 20, 20, 256)  0           add_30[0][0]                     \n",
            "__________________________________________________________________________________________________\n",
            "global_average_pooling2d_2 (Glo (None, 256)          0           activation_94[0][0]              \n",
            "__________________________________________________________________________________________________\n",
            "dense_2 (Dense)                 (None, 6)            1542        global_average_pooling2d_2[0][0] \n",
            "==================================================================================================\n",
            "Total params: 716,038\n",
            "Trainable params: 702,150\n",
            "Non-trainable params: 13,888\n",
            "__________________________________________________________________________________________________\n"
          ],
          "name": "stdout"
        }
      ]
    },
    {
      "cell_type": "code",
      "metadata": {
        "id": "f5hqWlWRPK-S",
        "colab_type": "code",
        "outputId": "56763417-5887-4e58-aae3-214c083c6548",
        "colab": {
          "base_uri": "https://localhost:8080/",
          "height": 51
        }
      },
      "source": [
        "ls"
      ],
      "execution_count": 40,
      "outputs": [
        {
          "output_type": "stream",
          "text": [
            "base.ipynb   modifed_res.ipynb  Request.py  \u001b[0m\u001b[01;34mtest\u001b[0m/\n",
            "bottle_2.h5  \u001b[01;34m__pycache__\u001b[0m/       Resize.py   \u001b[01;34mtrain\u001b[0m/\n"
          ],
          "name": "stdout"
        }
      ]
    },
    {
      "cell_type": "code",
      "metadata": {
        "id": "hYF1NmmWOwjn",
        "colab_type": "code",
        "colab": {}
      },
      "source": [
        "model.load_weights('bottle_2.h5')"
      ],
      "execution_count": 0,
      "outputs": []
    },
    {
      "cell_type": "code",
      "metadata": {
        "id": "RZozR4f5R5pf",
        "colab_type": "code",
        "colab": {}
      },
      "source": [
        "from keras.preprocessing.image import ImageDataGenerator\n",
        "train_datagen = ImageDataGenerator(shear_range=0.05, width_shift_range=0.2,\n",
        "                                   height_shift_range=0.2,\n",
        "                                   horizontal_flip=True, zoom_range=0.2)\n",
        "from sklearn.model_selection import train_test_split\n",
        "\n",
        "X_train, X_Val, Y_train, Y_Val = train_test_split(X_train,Y_train, test_size=0.2)"
      ],
      "execution_count": 0,
      "outputs": []
    },
    {
      "cell_type": "code",
      "metadata": {
        "id": "50GvzY-cfN6y",
        "colab_type": "code",
        "colab": {
          "base_uri": "https://localhost:8080/",
          "height": 1000
        },
        "outputId": "8d3091b4-ac26-4905-b915-c11a57f94f62"
      },
      "source": [
        "train_generator = train_datagen.flow(X_train,Y_train,batch_size=128)\n",
        "hist=model.fit_generator(train_generator,steps_per_epoch=len(X_train)/128,validation_data=(X_Val,Y_Val),\n",
        "               validation_steps=32,epochs=90)"
      ],
      "execution_count": 43,
      "outputs": [
        {
          "output_type": "stream",
          "text": [
            "WARNING:tensorflow:From /usr/local/lib/python3.6/dist-packages/tensorflow_core/python/ops/math_grad.py:1424: where (from tensorflow.python.ops.array_ops) is deprecated and will be removed in a future version.\n",
            "Instructions for updating:\n",
            "Use tf.where in 2.0, which has the same broadcast rule as np.where\n",
            "WARNING:tensorflow:From /usr/local/lib/python3.6/dist-packages/keras/backend/tensorflow_backend.py:1033: The name tf.assign_add is deprecated. Please use tf.compat.v1.assign_add instead.\n",
            "\n",
            "WARNING:tensorflow:From /usr/local/lib/python3.6/dist-packages/keras/backend/tensorflow_backend.py:1020: The name tf.assign is deprecated. Please use tf.compat.v1.assign instead.\n",
            "\n",
            "Epoch 1/90\n",
            "88/87 [==============================] - 98s 1s/step - loss: 0.2658 - acc: 0.9070 - val_loss: 0.3389 - val_acc: 0.8828\n",
            "Epoch 2/90\n",
            "88/87 [==============================] - 78s 881ms/step - loss: 0.2417 - acc: 0.9124 - val_loss: 0.3008 - val_acc: 0.8921\n",
            "Epoch 3/90\n",
            "88/87 [==============================] - 79s 894ms/step - loss: 0.2243 - acc: 0.9202 - val_loss: 0.3802 - val_acc: 0.8742\n",
            "Epoch 4/90\n",
            "88/87 [==============================] - 79s 893ms/step - loss: 0.2254 - acc: 0.9207 - val_loss: 0.4160 - val_acc: 0.8557\n",
            "Epoch 5/90\n",
            "88/87 [==============================] - 80s 907ms/step - loss: 0.2216 - acc: 0.9207 - val_loss: 0.2910 - val_acc: 0.8988\n",
            "Epoch 6/90\n",
            "88/87 [==============================] - 80s 906ms/step - loss: 0.2136 - acc: 0.9209 - val_loss: 0.4260 - val_acc: 0.8753\n",
            "Epoch 7/90\n",
            "88/87 [==============================] - 80s 910ms/step - loss: 0.2022 - acc: 0.9276 - val_loss: 0.3741 - val_acc: 0.8757\n",
            "Epoch 8/90\n",
            "88/87 [==============================] - 80s 914ms/step - loss: 0.2021 - acc: 0.9266 - val_loss: 0.5117 - val_acc: 0.8347\n",
            "Epoch 9/90\n",
            "88/87 [==============================] - 80s 908ms/step - loss: 0.1955 - acc: 0.9304 - val_loss: 0.3850 - val_acc: 0.8732\n",
            "Epoch 10/90\n",
            "88/87 [==============================] - 80s 908ms/step - loss: 0.1978 - acc: 0.9274 - val_loss: 0.3652 - val_acc: 0.8767\n",
            "Epoch 11/90\n",
            "88/87 [==============================] - 80s 911ms/step - loss: 0.1928 - acc: 0.9283 - val_loss: 0.3457 - val_acc: 0.8853\n",
            "Epoch 12/90\n",
            "88/87 [==============================] - 80s 910ms/step - loss: 0.1878 - acc: 0.9294 - val_loss: 0.3133 - val_acc: 0.8960\n",
            "Epoch 13/90\n",
            "88/87 [==============================] - 80s 912ms/step - loss: 0.1706 - acc: 0.9364 - val_loss: 0.3670 - val_acc: 0.8757\n",
            "Epoch 14/90\n",
            "88/87 [==============================] - 81s 916ms/step - loss: 0.1760 - acc: 0.9349 - val_loss: 0.3314 - val_acc: 0.8949\n",
            "Epoch 15/90\n",
            "88/87 [==============================] - 80s 914ms/step - loss: 0.1752 - acc: 0.9356 - val_loss: 0.4637 - val_acc: 0.8671\n",
            "Epoch 16/90\n",
            "88/87 [==============================] - 80s 915ms/step - loss: 0.1658 - acc: 0.9379 - val_loss: 0.3178 - val_acc: 0.8978\n",
            "Epoch 17/90\n",
            "88/87 [==============================] - 80s 914ms/step - loss: 0.1672 - acc: 0.9372 - val_loss: 0.3764 - val_acc: 0.8867\n",
            "Epoch 18/90\n",
            "88/87 [==============================] - 83s 939ms/step - loss: 0.1477 - acc: 0.9450 - val_loss: 0.3826 - val_acc: 0.8945\n",
            "Epoch 19/90\n",
            "88/87 [==============================] - 81s 921ms/step - loss: 0.1604 - acc: 0.9398 - val_loss: 0.4878 - val_acc: 0.8668\n",
            "Epoch 20/90\n",
            "88/87 [==============================] - 82s 928ms/step - loss: 0.1545 - acc: 0.9421 - val_loss: 0.3028 - val_acc: 0.9024\n",
            "Epoch 21/90\n",
            "88/87 [==============================] - 81s 923ms/step - loss: 0.1450 - acc: 0.9465 - val_loss: 0.3482 - val_acc: 0.8938\n",
            "Epoch 22/90\n",
            "88/87 [==============================] - 81s 924ms/step - loss: 0.1452 - acc: 0.9476 - val_loss: 0.6775 - val_acc: 0.8269\n",
            "Epoch 23/90\n",
            "88/87 [==============================] - 82s 929ms/step - loss: 0.1445 - acc: 0.9466 - val_loss: 0.5790 - val_acc: 0.8429\n",
            "Epoch 24/90\n",
            "88/87 [==============================] - 81s 922ms/step - loss: 0.1438 - acc: 0.9465 - val_loss: 0.4250 - val_acc: 0.8682\n",
            "Epoch 25/90\n",
            "88/87 [==============================] - 81s 926ms/step - loss: 0.1364 - acc: 0.9497 - val_loss: 0.4050 - val_acc: 0.8810\n",
            "Epoch 26/90\n",
            "88/87 [==============================] - 82s 927ms/step - loss: 0.1373 - acc: 0.9493 - val_loss: 0.3947 - val_acc: 0.8796\n",
            "Epoch 27/90\n",
            "88/87 [==============================] - 81s 925ms/step - loss: 0.1405 - acc: 0.9488 - val_loss: 0.3685 - val_acc: 0.8871\n",
            "Epoch 28/90\n",
            "88/87 [==============================] - 81s 922ms/step - loss: 0.1354 - acc: 0.9507 - val_loss: 0.4247 - val_acc: 0.8757\n",
            "Epoch 29/90\n",
            "88/87 [==============================] - 81s 923ms/step - loss: 0.1303 - acc: 0.9509 - val_loss: 0.4295 - val_acc: 0.8714\n",
            "Epoch 30/90\n",
            "88/87 [==============================] - 82s 927ms/step - loss: 0.1265 - acc: 0.9535 - val_loss: 0.5624 - val_acc: 0.8518\n",
            "Epoch 31/90\n",
            "88/87 [==============================] - 81s 920ms/step - loss: 0.1254 - acc: 0.9531 - val_loss: 0.4371 - val_acc: 0.8778\n",
            "Epoch 32/90\n",
            "88/87 [==============================] - 81s 924ms/step - loss: 0.1202 - acc: 0.9558 - val_loss: 0.4306 - val_acc: 0.8696\n",
            "Epoch 33/90\n",
            "88/87 [==============================] - 81s 923ms/step - loss: 0.1101 - acc: 0.9598 - val_loss: 0.4229 - val_acc: 0.8746\n",
            "Epoch 34/90\n",
            "88/87 [==============================] - 81s 923ms/step - loss: 0.1197 - acc: 0.9560 - val_loss: 0.4039 - val_acc: 0.8864\n",
            "Epoch 35/90\n",
            "88/87 [==============================] - 81s 925ms/step - loss: 0.1140 - acc: 0.9564 - val_loss: 0.3545 - val_acc: 0.8956\n",
            "Epoch 36/90\n",
            "88/87 [==============================] - 81s 923ms/step - loss: 0.1151 - acc: 0.9586 - val_loss: 0.4138 - val_acc: 0.8935\n",
            "Epoch 37/90\n",
            "88/87 [==============================] - 81s 924ms/step - loss: 0.1005 - acc: 0.9637 - val_loss: 0.4038 - val_acc: 0.8864\n",
            "Epoch 38/90\n",
            "88/87 [==============================] - 81s 921ms/step - loss: 0.1065 - acc: 0.9608 - val_loss: 0.4861 - val_acc: 0.8689\n",
            "Epoch 39/90\n",
            "88/87 [==============================] - 81s 922ms/step - loss: 0.1144 - acc: 0.9566 - val_loss: 0.4332 - val_acc: 0.8856\n",
            "Epoch 40/90\n",
            "88/87 [==============================] - 81s 921ms/step - loss: 0.1040 - acc: 0.9615 - val_loss: 0.3572 - val_acc: 0.9045\n",
            "Epoch 41/90\n",
            "88/87 [==============================] - 81s 920ms/step - loss: 0.1040 - acc: 0.9624 - val_loss: 0.6501 - val_acc: 0.8408\n",
            "Epoch 42/90\n",
            "88/87 [==============================] - 81s 920ms/step - loss: 0.1040 - acc: 0.9621 - val_loss: 0.5111 - val_acc: 0.8693\n",
            "Epoch 43/90\n",
            "88/87 [==============================] - 81s 921ms/step - loss: 0.0976 - acc: 0.9639 - val_loss: 0.5387 - val_acc: 0.8643\n",
            "Epoch 44/90\n",
            "88/87 [==============================] - 81s 923ms/step - loss: 0.0985 - acc: 0.9651 - val_loss: 0.5917 - val_acc: 0.8532\n",
            "Epoch 45/90\n",
            "88/87 [==============================] - 81s 924ms/step - loss: 0.1016 - acc: 0.9621 - val_loss: 0.3834 - val_acc: 0.8921\n",
            "Epoch 46/90\n",
            "88/87 [==============================] - 83s 948ms/step - loss: 0.0987 - acc: 0.9636 - val_loss: 0.4597 - val_acc: 0.8885\n",
            "Epoch 47/90\n",
            "88/87 [==============================] - 81s 923ms/step - loss: 0.0973 - acc: 0.9620 - val_loss: 0.5068 - val_acc: 0.8757\n",
            "Epoch 48/90\n",
            "88/87 [==============================] - 81s 923ms/step - loss: 0.0936 - acc: 0.9664 - val_loss: 0.5085 - val_acc: 0.8714\n",
            "Epoch 49/90\n",
            "88/87 [==============================] - 81s 923ms/step - loss: 0.0947 - acc: 0.9676 - val_loss: 0.3797 - val_acc: 0.8949\n",
            "Epoch 50/90\n",
            "88/87 [==============================] - 81s 925ms/step - loss: 0.0938 - acc: 0.9666 - val_loss: 0.3735 - val_acc: 0.9002\n",
            "Epoch 51/90\n",
            "88/87 [==============================] - 81s 922ms/step - loss: 0.0801 - acc: 0.9700 - val_loss: 0.3751 - val_acc: 0.8938\n",
            "Epoch 52/90\n",
            "88/87 [==============================] - 83s 946ms/step - loss: 0.0878 - acc: 0.9688 - val_loss: 0.4681 - val_acc: 0.8910\n",
            "Epoch 53/90\n",
            "88/87 [==============================] - 81s 924ms/step - loss: 0.0836 - acc: 0.9702 - val_loss: 0.3835 - val_acc: 0.9067\n",
            "Epoch 54/90\n",
            "88/87 [==============================] - 81s 925ms/step - loss: 0.0919 - acc: 0.9659 - val_loss: 0.4673 - val_acc: 0.8803\n",
            "Epoch 55/90\n",
            "88/87 [==============================] - 82s 926ms/step - loss: 0.0801 - acc: 0.9713 - val_loss: 0.5228 - val_acc: 0.8721\n",
            "Epoch 56/90\n",
            "88/87 [==============================] - 81s 922ms/step - loss: 0.0741 - acc: 0.9730 - val_loss: 0.5286 - val_acc: 0.8778\n",
            "Epoch 57/90\n",
            "88/87 [==============================] - 81s 923ms/step - loss: 0.0774 - acc: 0.9705 - val_loss: 0.4689 - val_acc: 0.8782\n",
            "Epoch 58/90\n",
            "88/87 [==============================] - 81s 918ms/step - loss: 0.0780 - acc: 0.9733 - val_loss: 0.4598 - val_acc: 0.8985\n",
            "Epoch 59/90\n",
            "88/87 [==============================] - 80s 913ms/step - loss: 0.0808 - acc: 0.9699 - val_loss: 0.4730 - val_acc: 0.8881\n",
            "Epoch 60/90\n",
            "88/87 [==============================] - 80s 910ms/step - loss: 0.0789 - acc: 0.9716 - val_loss: 0.5398 - val_acc: 0.8678\n",
            "Epoch 61/90\n",
            "88/87 [==============================] - 80s 904ms/step - loss: 0.0684 - acc: 0.9761 - val_loss: 0.5638 - val_acc: 0.8639\n",
            "Epoch 62/90\n",
            "88/87 [==============================] - 79s 903ms/step - loss: 0.0752 - acc: 0.9740 - val_loss: 0.4700 - val_acc: 0.8753\n",
            "Epoch 63/90\n",
            "88/87 [==============================] - 79s 902ms/step - loss: 0.0670 - acc: 0.9749 - val_loss: 0.5205 - val_acc: 0.8789\n",
            "Epoch 64/90\n",
            "88/87 [==============================] - 79s 901ms/step - loss: 0.0819 - acc: 0.9706 - val_loss: 0.5963 - val_acc: 0.8693\n",
            "Epoch 65/90\n",
            "88/87 [==============================] - 79s 901ms/step - loss: 0.0732 - acc: 0.9747 - val_loss: 0.5139 - val_acc: 0.8824\n",
            "Epoch 66/90\n",
            "88/87 [==============================] - 79s 897ms/step - loss: 0.0763 - acc: 0.9724 - val_loss: 0.5808 - val_acc: 0.8650\n",
            "Epoch 67/90\n",
            "88/87 [==============================] - 79s 893ms/step - loss: 0.0716 - acc: 0.9748 - val_loss: 0.4123 - val_acc: 0.8953\n",
            "Epoch 68/90\n",
            "88/87 [==============================] - 79s 893ms/step - loss: 0.0623 - acc: 0.9778 - val_loss: 0.4677 - val_acc: 0.8942\n",
            "Epoch 69/90\n",
            "88/87 [==============================] - 78s 889ms/step - loss: 0.0655 - acc: 0.9773 - val_loss: 0.5469 - val_acc: 0.8728\n",
            "Epoch 70/90\n",
            "88/87 [==============================] - 78s 889ms/step - loss: 0.0751 - acc: 0.9730 - val_loss: 0.4480 - val_acc: 0.8846\n",
            "Epoch 71/90\n",
            "88/87 [==============================] - 78s 891ms/step - loss: 0.0730 - acc: 0.9746 - val_loss: 0.4555 - val_acc: 0.8931\n",
            "Epoch 72/90\n",
            "88/87 [==============================] - 78s 887ms/step - loss: 0.0722 - acc: 0.9742 - val_loss: 0.4885 - val_acc: 0.8846\n",
            "Epoch 73/90\n",
            "88/87 [==============================] - 78s 892ms/step - loss: 0.0709 - acc: 0.9756 - val_loss: 0.5094 - val_acc: 0.8810\n",
            "Epoch 74/90\n",
            "88/87 [==============================] - 78s 886ms/step - loss: 0.0695 - acc: 0.9764 - val_loss: 0.5218 - val_acc: 0.8750\n",
            "Epoch 75/90\n",
            "88/87 [==============================] - 78s 884ms/step - loss: 0.0539 - acc: 0.9819 - val_loss: 0.5137 - val_acc: 0.8963\n",
            "Epoch 76/90\n",
            "88/87 [==============================] - 78s 886ms/step - loss: 0.0529 - acc: 0.9810 - val_loss: 0.5738 - val_acc: 0.8685\n",
            "Epoch 77/90\n",
            "88/87 [==============================] - 78s 887ms/step - loss: 0.0613 - acc: 0.9767 - val_loss: 0.5831 - val_acc: 0.8849\n",
            "Epoch 78/90\n",
            "88/87 [==============================] - 78s 884ms/step - loss: 0.0611 - acc: 0.9782 - val_loss: 0.5546 - val_acc: 0.8888\n",
            "Epoch 79/90\n",
            "88/87 [==============================] - 78s 882ms/step - loss: 0.0686 - acc: 0.9745 - val_loss: 0.4713 - val_acc: 0.8953\n",
            "Epoch 80/90\n",
            "88/87 [==============================] - 78s 883ms/step - loss: 0.0616 - acc: 0.9768 - val_loss: 0.4921 - val_acc: 0.8945\n",
            "Epoch 81/90\n",
            "88/87 [==============================] - 78s 887ms/step - loss: 0.0693 - acc: 0.9767 - val_loss: 0.5595 - val_acc: 0.8682\n",
            "Epoch 82/90\n",
            "88/87 [==============================] - 78s 886ms/step - loss: 0.0728 - acc: 0.9731 - val_loss: 0.6576 - val_acc: 0.8639\n",
            "Epoch 83/90\n",
            "88/87 [==============================] - 78s 883ms/step - loss: 0.0622 - acc: 0.9767 - val_loss: 0.6965 - val_acc: 0.8593\n",
            "Epoch 84/90\n",
            "88/87 [==============================] - 78s 883ms/step - loss: 0.0505 - acc: 0.9827 - val_loss: 0.5279 - val_acc: 0.8757\n",
            "Epoch 85/90\n",
            "88/87 [==============================] - 77s 880ms/step - loss: 0.0577 - acc: 0.9795 - val_loss: 0.5557 - val_acc: 0.8921\n",
            "Epoch 86/90\n",
            "88/87 [==============================] - 78s 881ms/step - loss: 0.0540 - acc: 0.9809 - val_loss: 0.4810 - val_acc: 0.8888\n",
            "Epoch 87/90\n",
            "88/87 [==============================] - 78s 887ms/step - loss: 0.0485 - acc: 0.9832 - val_loss: 0.4562 - val_acc: 0.9017\n",
            "Epoch 88/90\n",
            "88/87 [==============================] - 78s 882ms/step - loss: 0.0608 - acc: 0.9780 - val_loss: 0.5189 - val_acc: 0.8842\n",
            "Epoch 89/90\n",
            "88/87 [==============================] - 78s 885ms/step - loss: 0.0578 - acc: 0.9800 - val_loss: 0.5063 - val_acc: 0.8892\n",
            "Epoch 90/90\n",
            "88/87 [==============================] - 78s 884ms/step - loss: 0.0657 - acc: 0.9764 - val_loss: 0.7987 - val_acc: 0.8400\n"
          ],
          "name": "stdout"
        }
      ]
    },
    {
      "cell_type": "code",
      "metadata": {
        "id": "MxBVgNTtOccp",
        "colab_type": "code",
        "colab": {
          "base_uri": "https://localhost:8080/",
          "height": 34
        },
        "outputId": "a2d19b41-e472-4f1c-c68c-bf2f83acbcc3"
      },
      "source": [
        "hist."
      ],
      "execution_count": 45,
      "outputs": [
        {
          "output_type": "execute_result",
          "data": {
            "text/plain": [
              "<keras.callbacks.History at 0x7f85b3ea3470>"
            ]
          },
          "metadata": {
            "tags": []
          },
          "execution_count": 45
        }
      ]
    },
    {
      "cell_type": "code",
      "metadata": {
        "id": "ufSz5E2g2-oE",
        "colab_type": "code",
        "colab": {
          "base_uri": "https://localhost:8080/",
          "height": 539
        },
        "outputId": "20cc0cad-25b0-4114-d217-67addd6284c7"
      },
      "source": [
        "fig,loss_ax=plt.subplots(figsize=(12,5))\n",
        "acc_ax=loss_ax.twinx()\n",
        "\n",
        "loss_ax.plot(hist.history['loss'],'indianred',marker='*',label='train loss')\n",
        "loss_ax.plot(hist.history['val_loss'],'lightcoral',marker='*',label='val loss')\n",
        "\n",
        "\n",
        "loss_ax.set_ylim([0, 2])\n",
        "\n",
        "\n",
        "acc_ax.plot(hist.history['acc'],'forestgreen',marker='*',label='train accuary')\n",
        "acc_ax.plot(hist.history['val_acc'],'olivedrab',marker='*',label='val accuary')\n",
        "acc_ax.set_ylim([0, 1])\n",
        "\n",
        "\n",
        "\n",
        "loss_ax.s\n",
        "loss_ax.set_xlabel('epoch')\n",
        "loss_ax.set_ylabel('loss')\n",
        "acc_ax.set_ylabel('accuracy')\n",
        "\n",
        "loss_ax.legend(loc='upper left')\n",
        "acc_ax.legend(loc='lower left')\n",
        "\n",
        "plt.show()"
      ],
      "execution_count": 44,
      "outputs": [
        {
          "output_type": "error",
          "ename": "AttributeError",
          "evalue": "ignored",
          "traceback": [
            "\u001b[0;31m---------------------------------------------------------------------------\u001b[0m",
            "\u001b[0;31mAttributeError\u001b[0m                            Traceback (most recent call last)",
            "\u001b[0;32m<ipython-input-44-6cd17c431dc5>\u001b[0m in \u001b[0;36m<module>\u001b[0;34m()\u001b[0m\n\u001b[1;32m     15\u001b[0m \u001b[0;34m\u001b[0m\u001b[0m\n\u001b[1;32m     16\u001b[0m \u001b[0;34m\u001b[0m\u001b[0m\n\u001b[0;32m---> 17\u001b[0;31m \u001b[0mloss_ax\u001b[0m\u001b[0;34m.\u001b[0m\u001b[0ms\u001b[0m\u001b[0;34m\u001b[0m\u001b[0;34m\u001b[0m\u001b[0m\n\u001b[0m\u001b[1;32m     18\u001b[0m \u001b[0mloss_ax\u001b[0m\u001b[0;34m.\u001b[0m\u001b[0mset_xlabel\u001b[0m\u001b[0;34m(\u001b[0m\u001b[0;34m'epoch'\u001b[0m\u001b[0;34m)\u001b[0m\u001b[0;34m\u001b[0m\u001b[0;34m\u001b[0m\u001b[0m\n\u001b[1;32m     19\u001b[0m \u001b[0mloss_ax\u001b[0m\u001b[0;34m.\u001b[0m\u001b[0mset_ylabel\u001b[0m\u001b[0;34m(\u001b[0m\u001b[0;34m'loss'\u001b[0m\u001b[0;34m)\u001b[0m\u001b[0;34m\u001b[0m\u001b[0;34m\u001b[0m\u001b[0m\n",
            "\u001b[0;31mAttributeError\u001b[0m: 'AxesSubplot' object has no attribute 's'"
          ]
        },
        {
          "output_type": "display_data",
          "data": {
            "image/png": "[encoded data removed]",
            "text/plain": [
              "<Figure size 864x360 with 2 Axes>"
            ]
          },
          "metadata": {
            "tags": []
          }
        }
      ]
    },
    {
      "cell_type": "code",
      "metadata": {
        "id": "pPJNE_HgBn69",
        "colab_type": "code",
        "colab": {}
      },
      "source": [
        "from google.colab import files\n",
        "model.save_weights(\"bottle_2.h5\")\n",
        "files.download(\"bottle_2.h5\")"
      ],
      "execution_count": 0,
      "outputs": []
    },
    {
      "cell_type": "code",
      "metadata": {
        "id": "Z6Kg9m6Q3Nlo",
        "colab_type": "code",
        "colab": {
          "base_uri": "https://localhost:8080/",
          "height": 450
        },
        "outputId": "1c59b997-0956-4058-8f6b-2f1327b24deb"
      },
      "source": [
        "result = model.predict(X_test,batch_size=128)\n",
        "result = np.argmax(result,axis=1).reshape(-1,1)\n",
        "\n",
        "output = pd.DataFrame(X_id)\n",
        "output['pred_label'] = result\n",
        "output.columns = ['id','pred_label']\n",
        "output.set_index('id')"
      ],
      "execution_count": 47,
      "outputs": [
        {
          "output_type": "execute_result",
          "data": {
            "text/html": [
              "<div>\n",
              "<style scoped>\n",
              "    .dataframe tbody tr th:only-of-type {\n",
              "        vertical-align: middle;\n",
              "    }\n",
              "\n",
              "    .dataframe tbody tr th {\n",
              "        vertical-align: top;\n",
              "    }\n",
              "\n",
              "    .dataframe thead th {\n",
              "        text-align: right;\n",
              "    }\n",
              "</style>\n",
              "<table border=\"1\" class=\"dataframe\">\n",
              "  <thead>\n",
              "    <tr style=\"text-align: right;\">\n",
              "      <th></th>\n",
              "      <th>pred_label</th>\n",
              "    </tr>\n",
              "    <tr>\n",
              "      <th>id</th>\n",
              "      <th></th>\n",
              "    </tr>\n",
              "  </thead>\n",
              "  <tbody>\n",
              "    <tr>\n",
              "      <th>20485</th>\n",
              "      <td>5</td>\n",
              "    </tr>\n",
              "    <tr>\n",
              "      <th>20843</th>\n",
              "      <td>1</td>\n",
              "    </tr>\n",
              "    <tr>\n",
              "      <th>23465</th>\n",
              "      <td>5</td>\n",
              "    </tr>\n",
              "    <tr>\n",
              "      <th>20564</th>\n",
              "      <td>1</td>\n",
              "    </tr>\n",
              "    <tr>\n",
              "      <th>24169</th>\n",
              "      <td>0</td>\n",
              "    </tr>\n",
              "    <tr>\n",
              "      <th>...</th>\n",
              "      <td>...</td>\n",
              "    </tr>\n",
              "    <tr>\n",
              "      <th>21611</th>\n",
              "      <td>3</td>\n",
              "    </tr>\n",
              "    <tr>\n",
              "      <th>20276</th>\n",
              "      <td>0</td>\n",
              "    </tr>\n",
              "    <tr>\n",
              "      <th>21720</th>\n",
              "      <td>5</td>\n",
              "    </tr>\n",
              "    <tr>\n",
              "      <th>21811</th>\n",
              "      <td>2</td>\n",
              "    </tr>\n",
              "    <tr>\n",
              "      <th>21306</th>\n",
              "      <td>1</td>\n",
              "    </tr>\n",
              "  </tbody>\n",
              "</table>\n",
              "<p>3000 rows × 1 columns</p>\n",
              "</div>"
            ],
            "text/plain": [
              "       pred_label\n",
              "id               \n",
              "20485           5\n",
              "20843           1\n",
              "23465           5\n",
              "20564           1\n",
              "24169           0\n",
              "...           ...\n",
              "21611           3\n",
              "20276           0\n",
              "21720           5\n",
              "21811           2\n",
              "21306           1\n",
              "\n",
              "[3000 rows x 1 columns]"
            ]
          },
          "metadata": {
            "tags": []
          },
          "execution_count": 47
        }
      ]
    },
    {
      "cell_type": "code",
      "metadata": {
        "id": "zfZHFB5i3URf",
        "colab_type": "code",
        "colab": {}
      },
      "source": [
        "output.to_csv('prediction.csv')\n",
        "\n",
        "\n",
        "files.download(\"prediction.csv\")"
      ],
      "execution_count": 0,
      "outputs": []
    },
    {
      "cell_type": "code",
      "metadata": {
        "id": "Fbgxb3ng3XUY",
        "colab_type": "code",
        "colab": {
          "base_uri": "https://localhost:8080/",
          "height": 266
        },
        "outputId": "b97a58aa-0808-4289-cfe1-9f019ffdc85b"
      },
      "source": [
        "output['count']=1\n",
        "output.groupby('pred_label').sum()"
      ],
      "execution_count": 49,
      "outputs": [
        {
          "output_type": "execute_result",
          "data": {
            "text/html": [
              "<div>\n",
              "<style scoped>\n",
              "    .dataframe tbody tr th:only-of-type {\n",
              "        vertical-align: middle;\n",
              "    }\n",
              "\n",
              "    .dataframe tbody tr th {\n",
              "        vertical-align: top;\n",
              "    }\n",
              "\n",
              "    .dataframe thead th {\n",
              "        text-align: right;\n",
              "    }\n",
              "</style>\n",
              "<table border=\"1\" class=\"dataframe\">\n",
              "  <thead>\n",
              "    <tr style=\"text-align: right;\">\n",
              "      <th></th>\n",
              "      <th>count</th>\n",
              "    </tr>\n",
              "    <tr>\n",
              "      <th>pred_label</th>\n",
              "      <th></th>\n",
              "    </tr>\n",
              "  </thead>\n",
              "  <tbody>\n",
              "    <tr>\n",
              "      <th>0</th>\n",
              "      <td>402</td>\n",
              "    </tr>\n",
              "    <tr>\n",
              "      <th>1</th>\n",
              "      <td>329</td>\n",
              "    </tr>\n",
              "    <tr>\n",
              "      <th>2</th>\n",
              "      <td>631</td>\n",
              "    </tr>\n",
              "    <tr>\n",
              "      <th>3</th>\n",
              "      <td>648</td>\n",
              "    </tr>\n",
              "    <tr>\n",
              "      <th>4</th>\n",
              "      <td>523</td>\n",
              "    </tr>\n",
              "    <tr>\n",
              "      <th>5</th>\n",
              "      <td>467</td>\n",
              "    </tr>\n",
              "  </tbody>\n",
              "</table>\n",
              "</div>"
            ],
            "text/plain": [
              "            count\n",
              "pred_label       \n",
              "0             402\n",
              "1             329\n",
              "2             631\n",
              "3             648\n",
              "4             523\n",
              "5             467"
            ]
          },
          "metadata": {
            "tags": []
          },
          "execution_count": 49
        }
      ]
    },
    {
      "cell_type": "code",
      "metadata": {
        "id": "MBdneerE3ZCi",
        "colab_type": "code",
        "colab": {}
      },
      "source": [
        "model.save('bottle_model.h5')\n",
        "\n",
        "files.download(\"bottle_model.h5\")"
      ],
      "execution_count": 0,
      "outputs": []
    },
    {
      "cell_type": "code",
      "metadata": {
        "id": "zxUGuNWAt7pD",
        "colab_type": "code",
        "colab": {}
      },
      "source": [
        ""
      ],
      "execution_count": 0,
      "outputs": []
    }
  ]
}