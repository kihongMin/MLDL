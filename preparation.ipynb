{
  "nbformat": 4,
  "nbformat_minor": 0,
  "metadata": {
    "colab": {
      "name": "preparation.ipynb",
      "provenance": [],
      "include_colab_link": true
    },
    "kernelspec": {
      "name": "python3",
      "display_name": "Python 3"
    }
  },
  "cells": [
    {
      "cell_type": "markdown",
      "metadata": {
        "id": "view-in-github",
        "colab_type": "text"
      },
      "source": [
        "<a href=\"https://colab.research.google.com/github/minkh93/MLDL/blob/master/preparation.ipynb\" target=\"_parent\"><img src=\"https://colab.research.google.com/assets/colab-badge.svg\" alt=\"Open In Colab\"/></a>"
      ]
    },
    {
      "cell_type": "code",
      "metadata": {
        "id": "OWL65UHchvDz",
        "colab_type": "code",
        "colab": {
          "base_uri": "https://localhost:8080/",
          "height": 102
        },
        "outputId": "483ab22d-4ed3-4fb8-8a9e-8d365ea4bf72"
      },
      "source": [
        "!git clone https://github.com/minkh93/MLDL.git"
      ],
      "execution_count": 19,
      "outputs": [
        {
          "output_type": "stream",
          "text": [
            "Cloning into 'MLDL'...\n",
            "remote: Enumerating objects: 17026, done.\u001b[K\n",
            "remote: Total 17026 (delta 0), reused 0 (delta 0), pack-reused 17026\u001b[K\n",
            "Receiving objects: 100% (17026/17026), 239.82 MiB | 38.39 MiB/s, done.\n",
            "Checking out files: 100% (17034/17034), done.\n"
          ],
          "name": "stdout"
        }
      ]
    },
    {
      "cell_type": "code",
      "metadata": {
        "id": "HBtkiSoJiKZE",
        "colab_type": "code",
        "colab": {}
      },
      "source": [
        "import cv2\n",
        "import numpy as np\n",
        "import pandas as pd\n",
        "import os\n",
        "from sklearn.preprocessing import OneHotEncoder"
      ],
      "execution_count": 0,
      "outputs": []
    },
    {
      "cell_type": "code",
      "metadata": {
        "id": "ybCqQdY62THO",
        "colab_type": "code",
        "colab": {}
      },
      "source": [
        "root_dir='/content/MLDL/train/'"
      ],
      "execution_count": 0,
      "outputs": []
    },
    {
      "cell_type": "code",
      "metadata": {
        "id": "ERsIstyu2VZ6",
        "colab_type": "code",
        "colab": {
          "base_uri": "https://localhost:8080/",
          "height": 34
        },
        "outputId": "1f8f93d6-449a-466e-9147-56186361ad50"
      },
      "source": [
        "cd $root_dir"
      ],
      "execution_count": 36,
      "outputs": [
        {
          "output_type": "stream",
          "text": [
            "/content/MLDL/train\n"
          ],
          "name": "stdout"
        }
      ]
    },
    {
      "cell_type": "code",
      "metadata": {
        "id": "vwBanS4_2_AK",
        "colab_type": "code",
        "colab": {
          "base_uri": "https://localhost:8080/",
          "height": 34
        },
        "outputId": "28bd30f9-0796-49b8-e6fa-8aefb0245ea1"
      },
      "source": [
        "ls"
      ],
      "execution_count": 37,
      "outputs": [
        {
          "output_type": "stream",
          "text": [
            "\u001b[0m\u001b[01;34m0\u001b[0m/  \u001b[01;34m1\u001b[0m/  \u001b[01;34m2\u001b[0m/  \u001b[01;34m3\u001b[0m/  \u001b[01;34m4\u001b[0m/  \u001b[01;34m5\u001b[0m/\n"
          ],
          "name": "stdout"
        }
      ]
    },
    {
      "cell_type": "code",
      "metadata": {
        "id": "uqyFdxdL2M1Q",
        "colab_type": "code",
        "colab": {
          "base_uri": "https://localhost:8080/",
          "height": 119
        },
        "outputId": "64502673-af44-4ce4-ef59-f6c9b695c217"
      },
      "source": [
        "train_input=[]\n",
        "train_label=[]\n",
        "image_shape = []\n",
        "\n",
        "for index in range(6):\n",
        "    path = root_dir+str(index)\n",
        "    print(path)\n",
        "    img_list = os.listdir(path)\n",
        "    !cd $path\n",
        "    for img in img_list:\n",
        "        image = cv2.imread(str(index)+'/'+img, cv2.IMREAD_COLOR)\n",
        "        train_input.append([np.array(image)])\n",
        "        train_label.append([np.array(index)])\n",
        "\n",
        "        image_shape.append(image.shape)"
      ],
      "execution_count": 38,
      "outputs": [
        {
          "output_type": "stream",
          "text": [
            "/content/MLDL/train/0\n",
            "/content/MLDL/train/1\n",
            "/content/MLDL/train/2\n",
            "/content/MLDL/train/3\n",
            "/content/MLDL/train/4\n",
            "/content/MLDL/train/5\n"
          ],
          "name": "stdout"
        }
      ]
    },
    {
      "cell_type": "code",
      "metadata": {
        "id": "8856zIss2mPc",
        "colab_type": "code",
        "colab": {}
      },
      "source": [
        "a = pd.DataFrame({'a':image_shape})\n",
        "k = a[a['a']!=(150, 150, 3)].index"
      ],
      "execution_count": 0,
      "outputs": []
    },
    {
      "cell_type": "code",
      "metadata": {
        "id": "flxcfwLp3onK",
        "colab_type": "code",
        "colab": {}
      },
      "source": [
        "min_v=10000\n",
        "max_v=0\n",
        "\n",
        "for o in k:\n",
        "    value = a[a['a']!=(150, 150, 3)].loc[o][0][0]\n",
        "    if value > max_v: max_v=value\n",
        "    if value < min_v: min_v=value"
      ],
      "execution_count": 0,
      "outputs": []
    },
    {
      "cell_type": "code",
      "metadata": {
        "id": "khmsGE8e30H9",
        "colab_type": "code",
        "colab": {
          "base_uri": "https://localhost:8080/",
          "height": 34
        },
        "outputId": "7b895226-df2c-4262-9943-63817ebd06dc"
      },
      "source": [
        "min_v"
      ],
      "execution_count": 44,
      "outputs": [
        {
          "output_type": "execute_result",
          "data": {
            "text/plain": [
              "76"
            ]
          },
          "metadata": {
            "tags": []
          },
          "execution_count": 44
        }
      ]
    },
    {
      "cell_type": "code",
      "metadata": {
        "id": "LMc2P2YE30ui",
        "colab_type": "code",
        "colab": {}
      },
      "source": [
        ""
      ],
      "execution_count": 0,
      "outputs": []
    }
  ]
}